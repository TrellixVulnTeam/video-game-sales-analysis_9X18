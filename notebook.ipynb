{
 "metadata": {
  "language_info": {
   "codemirror_mode": {
    "name": "ipython",
    "version": 3
   },
   "file_extension": ".py",
   "mimetype": "text/x-python",
   "name": "python",
   "nbconvert_exporter": "python",
   "pygments_lexer": "ipython3",
   "version": "3.9.2"
  },
  "orig_nbformat": 2,
  "kernelspec": {
   "name": "pythonjvsc74a57bd0d0a1f559de3dc736825df5aadb7df2fcdf10a277831a81d6e4241d3c8843ea34",
   "display_name": "Python 3.9.2  ('streamlit': venv)"
  },
  "metadata": {
   "interpreter": {
    "hash": "d0a1f559de3dc736825df5aadb7df2fcdf10a277831a81d6e4241d3c8843ea34"
   }
  }
 },
 "nbformat": 4,
 "nbformat_minor": 2,
 "cells": [
  {
   "cell_type": "code",
   "execution_count": 3,
   "metadata": {},
   "outputs": [],
   "source": [
    "import pandas as pd"
   ]
  },
  {
   "cell_type": "code",
   "execution_count": 4,
   "metadata": {},
   "outputs": [],
   "source": [
    "df = pd.read_csv('datasets/vgsales.csv')"
   ]
  },
  {
   "cell_type": "code",
   "execution_count": 5,
   "metadata": {},
   "outputs": [
    {
     "output_type": "execute_result",
     "data": {
      "text/plain": [
       "   Rank                      Name Platform    Year         Genre Publisher  \\\n",
       "0     1                Wii Sports      Wii  2006.0        Sports  Nintendo   \n",
       "1     2         Super Mario Bros.      NES  1985.0      Platform  Nintendo   \n",
       "2     3            Mario Kart Wii      Wii  2008.0        Racing  Nintendo   \n",
       "3     4         Wii Sports Resort      Wii  2009.0        Sports  Nintendo   \n",
       "4     5  Pokemon Red/Pokemon Blue       GB  1996.0  Role-Playing  Nintendo   \n",
       "\n",
       "   NA_Sales  EU_Sales  JP_Sales  Other_Sales  Global_Sales  \n",
       "0     41.49     29.02      3.77         8.46         82.74  \n",
       "1     29.08      3.58      6.81         0.77         40.24  \n",
       "2     15.85     12.88      3.79         3.31         35.82  \n",
       "3     15.75     11.01      3.28         2.96         33.00  \n",
       "4     11.27      8.89     10.22         1.00         31.37  "
      ],
      "text/html": "<div>\n<style scoped>\n    .dataframe tbody tr th:only-of-type {\n        vertical-align: middle;\n    }\n\n    .dataframe tbody tr th {\n        vertical-align: top;\n    }\n\n    .dataframe thead th {\n        text-align: right;\n    }\n</style>\n<table border=\"1\" class=\"dataframe\">\n  <thead>\n    <tr style=\"text-align: right;\">\n      <th></th>\n      <th>Rank</th>\n      <th>Name</th>\n      <th>Platform</th>\n      <th>Year</th>\n      <th>Genre</th>\n      <th>Publisher</th>\n      <th>NA_Sales</th>\n      <th>EU_Sales</th>\n      <th>JP_Sales</th>\n      <th>Other_Sales</th>\n      <th>Global_Sales</th>\n    </tr>\n  </thead>\n  <tbody>\n    <tr>\n      <th>0</th>\n      <td>1</td>\n      <td>Wii Sports</td>\n      <td>Wii</td>\n      <td>2006.0</td>\n      <td>Sports</td>\n      <td>Nintendo</td>\n      <td>41.49</td>\n      <td>29.02</td>\n      <td>3.77</td>\n      <td>8.46</td>\n      <td>82.74</td>\n    </tr>\n    <tr>\n      <th>1</th>\n      <td>2</td>\n      <td>Super Mario Bros.</td>\n      <td>NES</td>\n      <td>1985.0</td>\n      <td>Platform</td>\n      <td>Nintendo</td>\n      <td>29.08</td>\n      <td>3.58</td>\n      <td>6.81</td>\n      <td>0.77</td>\n      <td>40.24</td>\n    </tr>\n    <tr>\n      <th>2</th>\n      <td>3</td>\n      <td>Mario Kart Wii</td>\n      <td>Wii</td>\n      <td>2008.0</td>\n      <td>Racing</td>\n      <td>Nintendo</td>\n      <td>15.85</td>\n      <td>12.88</td>\n      <td>3.79</td>\n      <td>3.31</td>\n      <td>35.82</td>\n    </tr>\n    <tr>\n      <th>3</th>\n      <td>4</td>\n      <td>Wii Sports Resort</td>\n      <td>Wii</td>\n      <td>2009.0</td>\n      <td>Sports</td>\n      <td>Nintendo</td>\n      <td>15.75</td>\n      <td>11.01</td>\n      <td>3.28</td>\n      <td>2.96</td>\n      <td>33.00</td>\n    </tr>\n    <tr>\n      <th>4</th>\n      <td>5</td>\n      <td>Pokemon Red/Pokemon Blue</td>\n      <td>GB</td>\n      <td>1996.0</td>\n      <td>Role-Playing</td>\n      <td>Nintendo</td>\n      <td>11.27</td>\n      <td>8.89</td>\n      <td>10.22</td>\n      <td>1.00</td>\n      <td>31.37</td>\n    </tr>\n  </tbody>\n</table>\n</div>"
     },
     "metadata": {},
     "execution_count": 5
    }
   ],
   "source": [
    "df.head()"
   ]
  },
  {
   "cell_type": "code",
   "execution_count": 6,
   "metadata": {},
   "outputs": [],
   "source": [
    "df.drop('Rank', inplace=True, axis=1)"
   ]
  },
  {
   "cell_type": "code",
   "execution_count": 7,
   "metadata": {},
   "outputs": [
    {
     "output_type": "execute_result",
     "data": {
      "text/plain": [
       "array(['Wii', 'NES', 'GB', 'DS', 'X360', 'PS3', 'PS2', 'SNES', 'GBA',\n",
       "       '3DS', 'PS4', 'N64', 'PS', 'XB', 'PC', '2600', 'PSP', 'XOne', 'GC',\n",
       "       'WiiU', 'GEN', 'DC', 'PSV', 'SAT', 'SCD', 'WS', 'NG', 'TG16',\n",
       "       '3DO', 'GG', 'PCFX'], dtype=object)"
      ]
     },
     "metadata": {},
     "execution_count": 7
    }
   ],
   "source": [
    "df.Platform.unique()"
   ]
  },
  {
   "cell_type": "code",
   "execution_count": 8,
   "metadata": {},
   "outputs": [],
   "source": [
    "series1 = df.groupby('Platform').count()['Year']"
   ]
  },
  {
   "cell_type": "code",
   "execution_count": 9,
   "metadata": {},
   "outputs": [
    {
     "output_type": "execute_result",
     "data": {
      "text/plain": [
       "Index(['2600', '3DO', '3DS', 'DC', 'DS', 'GB', 'GBA', 'GC', 'GEN', 'GG', 'N64',\n",
       "       'NES', 'NG', 'PC', 'PCFX', 'PS', 'PS2', 'PS3', 'PS4', 'PSP', 'PSV',\n",
       "       'SAT', 'SCD', 'SNES', 'TG16', 'WS', 'Wii', 'WiiU', 'X360', 'XB',\n",
       "       'XOne'],\n",
       "      dtype='object', name='Platform')"
      ]
     },
     "metadata": {},
     "execution_count": 9
    }
   ],
   "source": [
    "series1.index"
   ]
  },
  {
   "cell_type": "code",
   "execution_count": 10,
   "metadata": {},
   "outputs": [
    {
     "output_type": "execute_result",
     "data": {
      "text/plain": [
       "array([ 116,    3,  500,   52, 2133,   97,  811,  542,   27,    1,  316,\n",
       "         98,   12,  943,    1, 1189, 2127, 1304,  336, 1197,  412,  173,\n",
       "          6,  239,    2,    6, 1290,  143, 1235,  803,  213], dtype=int64)"
      ]
     },
     "metadata": {},
     "execution_count": 10
    }
   ],
   "source": [
    "series1.values"
   ]
  },
  {
   "cell_type": "code",
   "execution_count": 12,
   "metadata": {},
   "outputs": [
    {
     "output_type": "execute_result",
     "data": {
      "text/plain": [
       "array([2006., 1985., 2008., 2009., 1996., 1989., 1984., 2005., 1999.,\n",
       "       2007., 2010., 2013., 2004., 1990., 1988., 2002., 2001., 2011.,\n",
       "       1998., 2015., 2012., 2014., 1992., 1997., 1993., 1994., 1982.,\n",
       "       2003., 1986., 2000.,   nan, 1995., 2016., 1991., 1981., 1987.,\n",
       "       1980., 1983., 2020., 2017.])"
      ]
     },
     "metadata": {},
     "execution_count": 12
    }
   ],
   "source": [
    "df.Year.unique()"
   ]
  },
  {
   "cell_type": "code",
   "execution_count": 13,
   "metadata": {},
   "outputs": [],
   "source": [
    "series2 = df.groupby('Year').count()"
   ]
  },
  {
   "cell_type": "code",
   "execution_count": 14,
   "metadata": {},
   "outputs": [
    {
     "output_type": "execute_result",
     "data": {
      "text/plain": [
       "Float64Index([1980.0, 1981.0, 1982.0, 1983.0, 1984.0, 1985.0, 1986.0, 1987.0,\n",
       "              1988.0, 1989.0, 1990.0, 1991.0, 1992.0, 1993.0, 1994.0, 1995.0,\n",
       "              1996.0, 1997.0, 1998.0, 1999.0, 2000.0, 2001.0, 2002.0, 2003.0,\n",
       "              2004.0, 2005.0, 2006.0, 2007.0, 2008.0, 2009.0, 2010.0, 2011.0,\n",
       "              2012.0, 2013.0, 2014.0, 2015.0, 2016.0, 2017.0, 2020.0],\n",
       "             dtype='float64', name='Year')"
      ]
     },
     "metadata": {},
     "execution_count": 14
    }
   ],
   "source": [
    "series2.index"
   ]
  },
  {
   "cell_type": "code",
   "execution_count": 15,
   "metadata": {},
   "outputs": [
    {
     "output_type": "execute_result",
     "data": {
      "text/plain": [
       "array([[   9,    9,    9,    9,    9,    9,    9,    9,    9],\n",
       "       [  46,   46,   46,   46,   46,   46,   46,   46,   46],\n",
       "       [  36,   36,   36,   36,   36,   36,   36,   36,   36],\n",
       "       [  17,   17,   17,   17,   17,   17,   17,   17,   17],\n",
       "       [  14,   14,   14,   14,   14,   14,   14,   14,   14],\n",
       "       [  14,   14,   14,   14,   14,   14,   14,   14,   14],\n",
       "       [  21,   21,   21,   21,   21,   21,   21,   21,   21],\n",
       "       [  16,   16,   16,   16,   16,   16,   16,   16,   16],\n",
       "       [  15,   15,   15,   15,   15,   15,   15,   15,   15],\n",
       "       [  17,   17,   17,   17,   17,   17,   17,   17,   17],\n",
       "       [  16,   16,   16,   16,   16,   16,   16,   16,   16],\n",
       "       [  41,   41,   41,   41,   41,   41,   41,   41,   41],\n",
       "       [  43,   43,   43,   43,   43,   43,   43,   43,   43],\n",
       "       [  60,   60,   60,   60,   60,   60,   60,   60,   60],\n",
       "       [ 121,  121,  121,  121,  121,  121,  121,  121,  121],\n",
       "       [ 219,  219,  219,  219,  219,  219,  219,  219,  219],\n",
       "       [ 263,  263,  263,  263,  263,  263,  263,  263,  263],\n",
       "       [ 289,  289,  289,  289,  289,  289,  289,  289,  289],\n",
       "       [ 379,  379,  379,  379,  379,  379,  379,  379,  379],\n",
       "       [ 338,  338,  338,  338,  338,  338,  338,  338,  338],\n",
       "       [ 349,  349,  349,  349,  349,  349,  349,  349,  349],\n",
       "       [ 482,  482,  482,  482,  482,  482,  482,  482,  482],\n",
       "       [ 829,  829,  829,  829,  829,  829,  829,  829,  829],\n",
       "       [ 775,  775,  775,  775,  775,  775,  775,  775,  775],\n",
       "       [ 763,  763,  763,  744,  763,  763,  763,  763,  763],\n",
       "       [ 941,  941,  941,  936,  941,  941,  941,  941,  941],\n",
       "       [1008, 1008, 1008, 1008, 1008, 1008, 1008, 1008, 1008],\n",
       "       [1202, 1202, 1202, 1201, 1202, 1202, 1202, 1202, 1202],\n",
       "       [1428, 1428, 1428, 1428, 1428, 1428, 1428, 1428, 1428],\n",
       "       [1431, 1431, 1431, 1431, 1431, 1431, 1431, 1431, 1431],\n",
       "       [1259, 1259, 1259, 1257, 1259, 1259, 1259, 1259, 1259],\n",
       "       [1139, 1139, 1139, 1136, 1139, 1139, 1139, 1139, 1139],\n",
       "       [ 657,  657,  657,  655,  657,  657,  657,  657,  657],\n",
       "       [ 546,  546,  546,  546,  546,  546,  546,  546,  546],\n",
       "       [ 582,  582,  582,  580,  582,  582,  582,  582,  582],\n",
       "       [ 614,  614,  614,  614,  614,  614,  614,  614,  614],\n",
       "       [ 344,  344,  344,  342,  344,  344,  344,  344,  344],\n",
       "       [   3,    3,    3,    3,    3,    3,    3,    3,    3],\n",
       "       [   1,    1,    1,    1,    1,    1,    1,    1,    1]],\n",
       "      dtype=int64)"
      ]
     },
     "metadata": {},
     "execution_count": 15
    }
   ],
   "source": [
    "series2.values"
   ]
  },
  {
   "cell_type": "code",
   "execution_count": null,
   "metadata": {},
   "outputs": [],
   "source": []
  }
 ]
}